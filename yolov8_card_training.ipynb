{
  "nbformat": 4,
  "nbformat_minor": 0,
  "metadata": {
    "colab": {
      "provenance": [],
      "gpuType": "T4"
    },
    "kernelspec": {
      "name": "python3",
      "display_name": "Python 3"
    },
    "language_info": {
      "name": "python"
    },
    "accelerator": "GPU"
  },
  "cells": [
    {
      "cell_type": "code",
      "execution_count": null,
      "metadata": {
        "id": "ZRDVMqS8K_Mb"
      },
      "outputs": [],
      "source": [
        "!pip install ultralytics"
      ]
    },
    {
      "cell_type": "code",
      "source": [
        "!pip install roboflow"
      ],
      "metadata": {
        "id": "lzxHE3xfLRAS"
      },
      "execution_count": null,
      "outputs": []
    },
    {
      "cell_type": "code",
      "source": [
        "from roboflow import Roboflow\n",
        "rf = Roboflow(api_key=\"Jy3UzDzodA7xAfLTDxBP\")\n",
        "project = rf.workspace(\"augmented-startups\").project(\"playing-cards-ow27d\")\n",
        "version = project.version(4)\n",
        "dataset = version.download(\"yolov8\")\n",
        ""
      ],
      "metadata": {
        "colab": {
          "base_uri": "https://localhost:8080/"
        },
        "id": "K1-GyyWMLJJW",
        "outputId": "0a726a5f-380b-4368-ba57-0abe07a501dc"
      },
      "execution_count": 3,
      "outputs": [
        {
          "output_type": "stream",
          "name": "stdout",
          "text": [
            "loading Roboflow workspace...\n",
            "loading Roboflow project...\n",
            "Dependency ultralytics==8.0.196 is required but found version=8.2.92, to fix: `pip install ultralytics==8.0.196`\n"
          ]
        },
        {
          "output_type": "stream",
          "name": "stderr",
          "text": [
            "Downloading Dataset Version Zip in Playing-Cards-4 to yolov8:: 100%|██████████| 2119661/2119661 [00:58<00:00, 36340.37it/s]"
          ]
        },
        {
          "output_type": "stream",
          "name": "stdout",
          "text": [
            "\n"
          ]
        },
        {
          "output_type": "stream",
          "name": "stderr",
          "text": [
            "\n",
            "Extracting Dataset Version Zip to Playing-Cards-4 in yolov8:: 100%|██████████| 48478/48478 [00:14<00:00, 3289.60it/s]\n"
          ]
        }
      ]
    },
    {
      "cell_type": "code",
      "source": [
        "dataset.location"
      ],
      "metadata": {
        "colab": {
          "base_uri": "https://localhost:8080/",
          "height": 36
        },
        "id": "SiQpDqL-LSnG",
        "outputId": "650dd650-df2f-48c9-8b03-2a01970c37a0"
      },
      "execution_count": 4,
      "outputs": [
        {
          "output_type": "execute_result",
          "data": {
            "text/plain": [
              "'/content/Playing-Cards-4'"
            ],
            "application/vnd.google.colaboratory.intrinsic+json": {
              "type": "string"
            }
          },
          "metadata": {},
          "execution_count": 4
        }
      ]
    },
    {
      "cell_type": "code",
      "source": [
        "import shutil"
      ],
      "metadata": {
        "id": "_0e3FlIwL8UV"
      },
      "execution_count": 5,
      "outputs": []
    },
    {
      "cell_type": "code",
      "source": [
        "shutil.move('Playing-Cards-4/train',\n",
        "            'Playing-Cards-4/Playing-Cards-4/train'\n",
        "            )\n",
        "\n",
        "shutil.move('Playing-Cards-4/test',\n",
        "            'Playing-Cards-4/Playing-Cards-4/test'\n",
        "            )\n",
        "\n",
        "shutil.move('Playing-Cards-4/valid',\n",
        "            'Playing-Cards-4/Playing-Cards-4/valid'\n",
        "            )"
      ],
      "metadata": {
        "colab": {
          "base_uri": "https://localhost:8080/",
          "height": 36
        },
        "id": "Y4NKXKlNMAFB",
        "outputId": "fab9a762-c379-46d8-b4d4-d709efc884cc"
      },
      "execution_count": 6,
      "outputs": [
        {
          "output_type": "execute_result",
          "data": {
            "text/plain": [
              "'Playing-Cards-4/Playing-Cards-4/valid'"
            ],
            "application/vnd.google.colaboratory.intrinsic+json": {
              "type": "string"
            }
          },
          "metadata": {},
          "execution_count": 6
        }
      ]
    },
    {
      "cell_type": "code",
      "source": [
        "!yolo detect train data={dataset.location}/data.yaml model=yolov8s.pt epochs=10 imgsz=640"
      ],
      "metadata": {
        "colab": {
          "base_uri": "https://localhost:8080/"
        },
        "id": "-WYQPqtcMcGz",
        "outputId": "e228216c-a162-4b60-cd96-6a3416e6b6a9"
      },
      "execution_count": 8,
      "outputs": [
        {
          "output_type": "stream",
          "name": "stdout",
          "text": [
            "Ultralytics YOLOv8.2.92 🚀 Python-3.10.12 torch-2.4.0+cu121 CUDA:0 (Tesla T4, 15102MiB)\n",
            "\u001b[34m\u001b[1mengine/trainer: \u001b[0mtask=detect, mode=train, model=yolov8s.pt, data=/content/Playing-Cards-4/data.yaml, epochs=10, time=None, patience=100, batch=16, imgsz=640, save=True, save_period=-1, cache=False, device=None, workers=8, project=None, name=train2, exist_ok=False, pretrained=True, optimizer=auto, verbose=True, seed=0, deterministic=True, single_cls=False, rect=False, cos_lr=False, close_mosaic=10, resume=False, amp=True, fraction=1.0, profile=False, freeze=None, multi_scale=False, overlap_mask=True, mask_ratio=4, dropout=0.0, val=True, split=val, save_json=False, save_hybrid=False, conf=None, iou=0.7, max_det=300, half=False, dnn=False, plots=True, source=None, vid_stride=1, stream_buffer=False, visualize=False, augment=False, agnostic_nms=False, classes=None, retina_masks=False, embed=None, show=False, save_frames=False, save_txt=False, save_conf=False, save_crop=False, show_labels=True, show_conf=True, show_boxes=True, line_width=None, format=torchscript, keras=False, optimize=False, int8=False, dynamic=False, simplify=False, opset=None, workspace=4, nms=False, lr0=0.01, lrf=0.01, momentum=0.937, weight_decay=0.0005, warmup_epochs=3.0, warmup_momentum=0.8, warmup_bias_lr=0.1, box=7.5, cls=0.5, dfl=1.5, pose=12.0, kobj=1.0, label_smoothing=0.0, nbs=64, hsv_h=0.015, hsv_s=0.7, hsv_v=0.4, degrees=0.0, translate=0.1, scale=0.5, shear=0.0, perspective=0.0, flipud=0.0, fliplr=0.5, bgr=0.0, mosaic=1.0, mixup=0.0, copy_paste=0.0, auto_augment=randaugment, erasing=0.4, crop_fraction=1.0, cfg=None, tracker=botsort.yaml, save_dir=runs/detect/train2\n",
            "Overriding model.yaml nc=80 with nc=52\n",
            "\n",
            "                   from  n    params  module                                       arguments                     \n",
            "  0                  -1  1       928  ultralytics.nn.modules.conv.Conv             [3, 32, 3, 2]                 \n",
            "  1                  -1  1     18560  ultralytics.nn.modules.conv.Conv             [32, 64, 3, 2]                \n",
            "  2                  -1  1     29056  ultralytics.nn.modules.block.C2f             [64, 64, 1, True]             \n",
            "  3                  -1  1     73984  ultralytics.nn.modules.conv.Conv             [64, 128, 3, 2]               \n",
            "  4                  -1  2    197632  ultralytics.nn.modules.block.C2f             [128, 128, 2, True]           \n",
            "  5                  -1  1    295424  ultralytics.nn.modules.conv.Conv             [128, 256, 3, 2]              \n",
            "  6                  -1  2    788480  ultralytics.nn.modules.block.C2f             [256, 256, 2, True]           \n",
            "  7                  -1  1   1180672  ultralytics.nn.modules.conv.Conv             [256, 512, 3, 2]              \n",
            "  8                  -1  1   1838080  ultralytics.nn.modules.block.C2f             [512, 512, 1, True]           \n",
            "  9                  -1  1    656896  ultralytics.nn.modules.block.SPPF            [512, 512, 5]                 \n",
            " 10                  -1  1         0  torch.nn.modules.upsampling.Upsample         [None, 2, 'nearest']          \n",
            " 11             [-1, 6]  1         0  ultralytics.nn.modules.conv.Concat           [1]                           \n",
            " 12                  -1  1    591360  ultralytics.nn.modules.block.C2f             [768, 256, 1]                 \n",
            " 13                  -1  1         0  torch.nn.modules.upsampling.Upsample         [None, 2, 'nearest']          \n",
            " 14             [-1, 4]  1         0  ultralytics.nn.modules.conv.Concat           [1]                           \n",
            " 15                  -1  1    148224  ultralytics.nn.modules.block.C2f             [384, 128, 1]                 \n",
            " 16                  -1  1    147712  ultralytics.nn.modules.conv.Conv             [128, 128, 3, 2]              \n",
            " 17            [-1, 12]  1         0  ultralytics.nn.modules.conv.Concat           [1]                           \n",
            " 18                  -1  1    493056  ultralytics.nn.modules.block.C2f             [384, 256, 1]                 \n",
            " 19                  -1  1    590336  ultralytics.nn.modules.conv.Conv             [256, 256, 3, 2]              \n",
            " 20             [-1, 9]  1         0  ultralytics.nn.modules.conv.Concat           [1]                           \n",
            " 21                  -1  1   1969152  ultralytics.nn.modules.block.C2f             [768, 512, 1]                 \n",
            " 22        [15, 18, 21]  1   2136172  ultralytics.nn.modules.head.Detect           [52, [128, 256, 512]]         \n",
            "Model summary: 225 layers, 11,155,724 parameters, 11,155,708 gradients, 28.8 GFLOPs\n",
            "\n",
            "Transferred 349/355 items from pretrained weights\n",
            "\u001b[34m\u001b[1mTensorBoard: \u001b[0mStart with 'tensorboard --logdir runs/detect/train2', view at http://localhost:6006/\n",
            "Freezing layer 'model.22.dfl.conv.weight'\n",
            "\u001b[34m\u001b[1mAMP: \u001b[0mrunning Automatic Mixed Precision (AMP) checks with YOLOv8n...\n",
            "\u001b[34m\u001b[1mAMP: \u001b[0mchecks passed ✅\n",
            "\u001b[34m\u001b[1mtrain: \u001b[0mScanning /content/Playing-Cards-4/Playing-Cards-4/train/labels.cache... 21203 images, 0 backgrounds, 0 corrupt: 100% 21203/21203 [00:00<?, ?it/s]\n",
            "/usr/local/lib/python3.10/dist-packages/albumentations/__init__.py:13: UserWarning: A new version of Albumentations is available: 1.4.15 (you have 1.4.14). Upgrade using: pip install -U albumentations. To disable automatic update checks, set the environment variable NO_ALBUMENTATIONS_UPDATE to 1.\n",
            "  check_for_updates()\n",
            "\u001b[34m\u001b[1malbumentations: \u001b[0mBlur(p=0.01, blur_limit=(3, 7)), MedianBlur(p=0.01, blur_limit=(3, 7)), ToGray(p=0.01), CLAHE(p=0.01, clip_limit=(1, 4.0), tile_grid_size=(8, 8))\n",
            "/usr/lib/python3.10/multiprocessing/popen_fork.py:66: RuntimeWarning: os.fork() was called. os.fork() is incompatible with multithreaded code, and JAX is multithreaded, so this will likely lead to a deadlock.\n",
            "  self.pid = os.fork()\n",
            "\u001b[34m\u001b[1mval: \u001b[0mScanning /content/Playing-Cards-4/Playing-Cards-4/valid/labels.cache... 2020 images, 0 backgrounds, 0 corrupt: 100% 2020/2020 [00:00<?, ?it/s]\n",
            "Plotting labels to runs/detect/train2/labels.jpg... \n",
            "\u001b[34m\u001b[1moptimizer:\u001b[0m 'optimizer=auto' found, ignoring 'lr0=0.01' and 'momentum=0.937' and determining best 'optimizer', 'lr0' and 'momentum' automatically... \n",
            "\u001b[34m\u001b[1moptimizer:\u001b[0m AdamW(lr=0.000179, momentum=0.9) with parameter groups 57 weight(decay=0.0), 64 weight(decay=0.0005), 63 bias(decay=0.0)\n",
            "\u001b[34m\u001b[1mTensorBoard: \u001b[0mmodel graph visualization added ✅\n",
            "Image sizes 640 train, 640 val\n",
            "Using 2 dataloader workers\n",
            "Logging results to \u001b[1mruns/detect/train2\u001b[0m\n",
            "Starting training for 10 epochs...\n",
            "Closing dataloader mosaic\n",
            "\u001b[34m\u001b[1malbumentations: \u001b[0mBlur(p=0.01, blur_limit=(3, 7)), MedianBlur(p=0.01, blur_limit=(3, 7)), ToGray(p=0.01), CLAHE(p=0.01, clip_limit=(1, 4.0), tile_grid_size=(8, 8))\n",
            "/usr/lib/python3.10/multiprocessing/popen_fork.py:66: RuntimeWarning: os.fork() was called. os.fork() is incompatible with multithreaded code, and JAX is multithreaded, so this will likely lead to a deadlock.\n",
            "  self.pid = os.fork()\n",
            "\n",
            "      Epoch    GPU_mem   box_loss   cls_loss   dfl_loss  Instances       Size\n",
            "       1/10      3.98G      1.451      2.929      1.161         12        640: 100% 1326/1326 [08:09<00:00,  2.71it/s]\n",
            "                 Class     Images  Instances      Box(P          R      mAP50  mAP50-95): 100% 64/64 [00:24<00:00,  2.62it/s]\n",
            "                   all       2020       8080      0.887      0.906      0.964      0.634\n",
            "\n",
            "      Epoch    GPU_mem   box_loss   cls_loss   dfl_loss  Instances       Size\n",
            "       2/10      3.91G      1.233     0.8814      1.052         12        640: 100% 1326/1326 [07:51<00:00,  2.81it/s]\n",
            "                 Class     Images  Instances      Box(P          R      mAP50  mAP50-95): 100% 64/64 [00:22<00:00,  2.83it/s]\n",
            "                   all       2020       8080      0.983      0.986      0.994       0.71\n",
            "\n",
            "      Epoch    GPU_mem   box_loss   cls_loss   dfl_loss  Instances       Size\n",
            "       3/10      4.02G      1.202     0.6726       1.05         11        640: 100% 1326/1326 [07:45<00:00,  2.85it/s]\n",
            "                 Class     Images  Instances      Box(P          R      mAP50  mAP50-95): 100% 64/64 [00:24<00:00,  2.61it/s]\n",
            "                   all       2020       8080      0.996      0.996      0.995      0.733\n",
            "\n",
            "      Epoch    GPU_mem   box_loss   cls_loss   dfl_loss  Instances       Size\n",
            "       4/10      4.03G      1.178     0.5913      1.054         12        640: 100% 1326/1326 [07:44<00:00,  2.85it/s]\n",
            "                 Class     Images  Instances      Box(P          R      mAP50  mAP50-95): 100% 64/64 [00:24<00:00,  2.61it/s]\n",
            "                   all       2020       8080      0.998      0.999      0.995      0.775\n",
            "\n",
            "      Epoch    GPU_mem   box_loss   cls_loss   dfl_loss  Instances       Size\n",
            "       5/10      4.06G      1.166     0.5316      1.057         12        640: 100% 1326/1326 [07:42<00:00,  2.87it/s]\n",
            "                 Class     Images  Instances      Box(P          R      mAP50  mAP50-95): 100% 64/64 [00:23<00:00,  2.75it/s]\n",
            "                   all       2020       8080      0.998      0.999      0.995      0.785\n",
            "\n",
            "      Epoch    GPU_mem   box_loss   cls_loss   dfl_loss  Instances       Size\n",
            "       6/10      4.03G       1.15     0.5004      1.053         12        640: 100% 1326/1326 [07:50<00:00,  2.82it/s]\n",
            "                 Class     Images  Instances      Box(P          R      mAP50  mAP50-95): 100% 64/64 [00:22<00:00,  2.84it/s]\n",
            "                   all       2020       8080      0.999      0.999      0.995      0.793\n",
            "\n",
            "      Epoch    GPU_mem   box_loss   cls_loss   dfl_loss  Instances       Size\n",
            "       7/10       3.9G       1.14     0.4764      1.051         12        640: 100% 1326/1326 [07:43<00:00,  2.86it/s]\n",
            "                 Class     Images  Instances      Box(P          R      mAP50  mAP50-95): 100% 64/64 [00:22<00:00,  2.84it/s]\n",
            "                   all       2020       8080      0.999          1      0.995      0.797\n",
            "\n",
            "      Epoch    GPU_mem   box_loss   cls_loss   dfl_loss  Instances       Size\n",
            "       8/10      4.03G      1.131     0.4567      1.047         12        640: 100% 1326/1326 [07:43<00:00,  2.86it/s]\n",
            "                 Class     Images  Instances      Box(P          R      mAP50  mAP50-95): 100% 64/64 [00:22<00:00,  2.84it/s]\n",
            "                   all       2020       8080      0.999          1      0.995      0.813\n",
            "\n",
            "      Epoch    GPU_mem   box_loss   cls_loss   dfl_loss  Instances       Size\n",
            "       9/10      4.06G      1.119     0.4425      1.045         12        640: 100% 1326/1326 [07:43<00:00,  2.86it/s]\n",
            "                 Class     Images  Instances      Box(P          R      mAP50  mAP50-95): 100% 64/64 [00:22<00:00,  2.88it/s]\n",
            "                   all       2020       8080      0.999          1      0.995      0.803\n",
            "\n",
            "      Epoch    GPU_mem   box_loss   cls_loss   dfl_loss  Instances       Size\n",
            "      10/10      4.02G      1.111     0.4293      1.044         12        640: 100% 1326/1326 [07:43<00:00,  2.86it/s]\n",
            "                 Class     Images  Instances      Box(P          R      mAP50  mAP50-95): 100% 64/64 [00:21<00:00,  2.91it/s]\n",
            "                   all       2020       8080      0.999          1      0.995      0.818\n",
            "\n",
            "10 epochs completed in 1.368 hours.\n",
            "Optimizer stripped from runs/detect/train2/weights/last.pt, 22.6MB\n",
            "Optimizer stripped from runs/detect/train2/weights/best.pt, 22.6MB\n",
            "\n",
            "Validating runs/detect/train2/weights/best.pt...\n",
            "Ultralytics YOLOv8.2.92 🚀 Python-3.10.12 torch-2.4.0+cu121 CUDA:0 (Tesla T4, 15102MiB)\n",
            "Model summary (fused): 168 layers, 11,145,708 parameters, 0 gradients, 28.5 GFLOPs\n",
            "                 Class     Images  Instances      Box(P          R      mAP50  mAP50-95): 100% 64/64 [00:28<00:00,  2.23it/s]\n",
            "                   all       2020       8080      0.999          1      0.995      0.818\n",
            "                   10C        129        172      0.999          1      0.995       0.82\n",
            "                   10D        124        161          1          1      0.995       0.82\n",
            "                   10H        103        148      0.999          1      0.995      0.827\n",
            "                   10S        112        153      0.999          1      0.995      0.826\n",
            "                    2C        106        144      0.999          1      0.995      0.821\n",
            "                    2D        117        165      0.999          1      0.995      0.815\n",
            "                    2H        136        183      0.999          1      0.995      0.829\n",
            "                    2S        102        137      0.999          1      0.995      0.833\n",
            "                    3C        122        176          1      0.995      0.995      0.832\n",
            "                    3D        106        145          1      0.994      0.995      0.821\n",
            "                    3H        119        168      0.999          1      0.995      0.821\n",
            "                    3S        104        142      0.999          1      0.995      0.837\n",
            "                    4C        124        173          1          1      0.995      0.817\n",
            "                    4D         93        119      0.998          1      0.995      0.825\n",
            "                    4H        112        146      0.999          1      0.995      0.824\n",
            "                    4S        109        145          1      0.995      0.995      0.831\n",
            "                    5C        129        177      0.999          1      0.995      0.823\n",
            "                    5D        134        182      0.999          1      0.995      0.817\n",
            "                    5H        125        166      0.999          1      0.995      0.803\n",
            "                    5S        114        157      0.999          1      0.995      0.814\n",
            "                    6C        122        167      0.999          1      0.995       0.81\n",
            "                    6D        131        175      0.999          1      0.995      0.811\n",
            "                    6H         88        113      0.999          1      0.995      0.808\n",
            "                    6S        100        129      0.999          1      0.995      0.807\n",
            "                    7C        108        145          1          1      0.995      0.826\n",
            "                    7D        121        167      0.999          1      0.995      0.804\n",
            "                    7H        113        160          1          1      0.995      0.824\n",
            "                    7S        115        148      0.999          1      0.995      0.816\n",
            "                    8C        109        152      0.999          1      0.995      0.812\n",
            "                    8D        123        171      0.999          1      0.995       0.82\n",
            "                    8H        120        166      0.999          1      0.995       0.81\n",
            "                    8S        111        152      0.999          1      0.995      0.815\n",
            "                    9C        110        147      0.999          1      0.995      0.817\n",
            "                    9D        106        140      0.999          1      0.995      0.821\n",
            "                    9H        120        172      0.999          1      0.995      0.803\n",
            "                    9S        121        154      0.999          1      0.995      0.816\n",
            "                    AC        130        181          1          1      0.995      0.827\n",
            "                    AD        108        146          1      0.998      0.995      0.817\n",
            "                    AH        122        166      0.999          1      0.995      0.808\n",
            "                    AS        111        144          1      0.997      0.995      0.807\n",
            "                    JC        103        137      0.999          1      0.995      0.833\n",
            "                    JD        105        145      0.999          1      0.995      0.818\n",
            "                    JH        107        151      0.999          1      0.995      0.807\n",
            "                    JS        107        144      0.999          1      0.995      0.793\n",
            "                    KC        145        198      0.999          1      0.995      0.789\n",
            "                    KD        105        144      0.999          1      0.995      0.824\n",
            "                    KH        122        160      0.999          1      0.995      0.827\n",
            "                    KS         97        118      0.999          1      0.995       0.81\n",
            "                    QC        100        142      0.999          1      0.995      0.833\n",
            "                    QD        127        174          1          1      0.995       0.84\n",
            "                    QH        115        152      0.999          1      0.995      0.799\n",
            "                    QS        113        161      0.999          1      0.995      0.831\n",
            "Speed: 0.2ms preprocess, 4.8ms inference, 0.0ms loss, 1.8ms postprocess per image\n",
            "Results saved to \u001b[1mruns/detect/train2\u001b[0m\n",
            "💡 Learn more at https://docs.ultralytics.com/modes/train\n"
          ]
        }
      ]
    },
    {
      "cell_type": "code",
      "source": [],
      "metadata": {
        "id": "8g__Q5JnMv-j"
      },
      "execution_count": null,
      "outputs": []
    }
  ]
}